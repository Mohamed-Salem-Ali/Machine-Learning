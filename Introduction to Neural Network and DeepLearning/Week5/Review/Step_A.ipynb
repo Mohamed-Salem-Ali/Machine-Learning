{
 "cells": [
  {
   "cell_type": "markdown",
   "metadata": {},
   "source": [
    "## Basic imports"
   ]
  },
  {
   "cell_type": "code",
   "execution_count": 1,
   "metadata": {},
   "outputs": [],
   "source": [
    "import pandas as pd\n",
    "import numpy as np"
   ]
  },
  {
   "cell_type": "markdown",
   "metadata": {},
   "source": [
    "## Reading data"
   ]
  },
  {
   "cell_type": "code",
   "execution_count": 20,
   "metadata": {},
   "outputs": [
    {
     "name": "stdout",
     "output_type": "stream",
     "text": [
      "(1030, 9)\n"
     ]
    },
    {
     "data": {
      "text/html": [
       "<div>\n",
       "<style scoped>\n",
       "    .dataframe tbody tr th:only-of-type {\n",
       "        vertical-align: middle;\n",
       "    }\n",
       "\n",
       "    .dataframe tbody tr th {\n",
       "        vertical-align: top;\n",
       "    }\n",
       "\n",
       "    .dataframe thead th {\n",
       "        text-align: right;\n",
       "    }\n",
       "</style>\n",
       "<table border=\"1\" class=\"dataframe\">\n",
       "  <thead>\n",
       "    <tr style=\"text-align: right;\">\n",
       "      <th></th>\n",
       "      <th>Cement</th>\n",
       "      <th>Blast Furnace Slag</th>\n",
       "      <th>Fly Ash</th>\n",
       "      <th>Water</th>\n",
       "      <th>Superplasticizer</th>\n",
       "      <th>Coarse Aggregate</th>\n",
       "      <th>Fine Aggregate</th>\n",
       "      <th>Age</th>\n",
       "      <th>Strength</th>\n",
       "    </tr>\n",
       "  </thead>\n",
       "  <tbody>\n",
       "    <tr>\n",
       "      <th>0</th>\n",
       "      <td>540.0</td>\n",
       "      <td>0.0</td>\n",
       "      <td>0.0</td>\n",
       "      <td>162.0</td>\n",
       "      <td>2.5</td>\n",
       "      <td>1040.0</td>\n",
       "      <td>676.0</td>\n",
       "      <td>28.0</td>\n",
       "      <td>79.99</td>\n",
       "    </tr>\n",
       "    <tr>\n",
       "      <th>1</th>\n",
       "      <td>540.0</td>\n",
       "      <td>0.0</td>\n",
       "      <td>0.0</td>\n",
       "      <td>162.0</td>\n",
       "      <td>2.5</td>\n",
       "      <td>1055.0</td>\n",
       "      <td>676.0</td>\n",
       "      <td>28.0</td>\n",
       "      <td>61.89</td>\n",
       "    </tr>\n",
       "    <tr>\n",
       "      <th>2</th>\n",
       "      <td>332.5</td>\n",
       "      <td>142.5</td>\n",
       "      <td>0.0</td>\n",
       "      <td>228.0</td>\n",
       "      <td>0.0</td>\n",
       "      <td>932.0</td>\n",
       "      <td>594.0</td>\n",
       "      <td>270.0</td>\n",
       "      <td>40.27</td>\n",
       "    </tr>\n",
       "    <tr>\n",
       "      <th>3</th>\n",
       "      <td>332.5</td>\n",
       "      <td>142.5</td>\n",
       "      <td>0.0</td>\n",
       "      <td>228.0</td>\n",
       "      <td>0.0</td>\n",
       "      <td>932.0</td>\n",
       "      <td>594.0</td>\n",
       "      <td>365.0</td>\n",
       "      <td>41.05</td>\n",
       "    </tr>\n",
       "    <tr>\n",
       "      <th>4</th>\n",
       "      <td>198.6</td>\n",
       "      <td>132.4</td>\n",
       "      <td>0.0</td>\n",
       "      <td>192.0</td>\n",
       "      <td>0.0</td>\n",
       "      <td>978.4</td>\n",
       "      <td>825.5</td>\n",
       "      <td>360.0</td>\n",
       "      <td>44.30</td>\n",
       "    </tr>\n",
       "  </tbody>\n",
       "</table>\n",
       "</div>"
      ],
      "text/plain": [
       "   Cement  Blast Furnace Slag  Fly Ash  Water  Superplasticizer  \\\n",
       "0   540.0                 0.0      0.0  162.0               2.5   \n",
       "1   540.0                 0.0      0.0  162.0               2.5   \n",
       "2   332.5               142.5      0.0  228.0               0.0   \n",
       "3   332.5               142.5      0.0  228.0               0.0   \n",
       "4   198.6               132.4      0.0  192.0               0.0   \n",
       "\n",
       "   Coarse Aggregate  Fine Aggregate    Age  Strength  \n",
       "0            1040.0           676.0   28.0     79.99  \n",
       "1            1055.0           676.0   28.0     61.89  \n",
       "2             932.0           594.0  270.0     40.27  \n",
       "3             932.0           594.0  365.0     41.05  \n",
       "4             978.4           825.5  360.0     44.30  "
      ]
     },
     "execution_count": 20,
     "metadata": {},
     "output_type": "execute_result"
    }
   ],
   "source": [
    "df = pd.read_csv('concrete_data.csv')\n",
    "df = df.astype('float64')\n",
    "print(df.shape)\n",
    "df.head(5)"
   ]
  },
  {
   "cell_type": "code",
   "execution_count": 21,
   "metadata": {},
   "outputs": [
    {
     "name": "stdout",
     "output_type": "stream",
     "text": [
      "<class 'pandas.core.frame.DataFrame'>\n",
      "RangeIndex: 1030 entries, 0 to 1029\n",
      "Data columns (total 9 columns):\n",
      " #   Column              Non-Null Count  Dtype  \n",
      "---  ------              --------------  -----  \n",
      " 0   Cement              1030 non-null   float64\n",
      " 1   Blast Furnace Slag  1030 non-null   float64\n",
      " 2   Fly Ash             1030 non-null   float64\n",
      " 3   Water               1030 non-null   float64\n",
      " 4   Superplasticizer    1030 non-null   float64\n",
      " 5   Coarse Aggregate    1030 non-null   float64\n",
      " 6   Fine Aggregate      1030 non-null   float64\n",
      " 7   Age                 1030 non-null   float64\n",
      " 8   Strength            1030 non-null   float64\n",
      "dtypes: float64(9)\n",
      "memory usage: 72.5 KB\n"
     ]
    }
   ],
   "source": [
    "df.info()"
   ]
  },
  {
   "cell_type": "markdown",
   "metadata": {},
   "source": [
    "All values are non-null, which is good"
   ]
  },
  {
   "cell_type": "markdown",
   "metadata": {},
   "source": [
    "## Splitting data into predictors and target"
   ]
  },
  {
   "cell_type": "code",
   "execution_count": 22,
   "metadata": {},
   "outputs": [],
   "source": [
    "cols = df.columns\n",
    "x = df[cols[cols != 'Strength']] # Predictors\n",
    "y = df[['Strength']] # Target"
   ]
  },
  {
   "cell_type": "code",
   "execution_count": 23,
   "metadata": {},
   "outputs": [
    {
     "data": {
      "text/html": [
       "<div>\n",
       "<style scoped>\n",
       "    .dataframe tbody tr th:only-of-type {\n",
       "        vertical-align: middle;\n",
       "    }\n",
       "\n",
       "    .dataframe tbody tr th {\n",
       "        vertical-align: top;\n",
       "    }\n",
       "\n",
       "    .dataframe thead th {\n",
       "        text-align: right;\n",
       "    }\n",
       "</style>\n",
       "<table border=\"1\" class=\"dataframe\">\n",
       "  <thead>\n",
       "    <tr style=\"text-align: right;\">\n",
       "      <th></th>\n",
       "      <th>Cement</th>\n",
       "      <th>Blast Furnace Slag</th>\n",
       "      <th>Fly Ash</th>\n",
       "      <th>Water</th>\n",
       "      <th>Superplasticizer</th>\n",
       "      <th>Coarse Aggregate</th>\n",
       "      <th>Fine Aggregate</th>\n",
       "      <th>Age</th>\n",
       "    </tr>\n",
       "  </thead>\n",
       "  <tbody>\n",
       "    <tr>\n",
       "      <th>0</th>\n",
       "      <td>540.0</td>\n",
       "      <td>0.0</td>\n",
       "      <td>0.0</td>\n",
       "      <td>162.0</td>\n",
       "      <td>2.5</td>\n",
       "      <td>1040.0</td>\n",
       "      <td>676.0</td>\n",
       "      <td>28.0</td>\n",
       "    </tr>\n",
       "    <tr>\n",
       "      <th>1</th>\n",
       "      <td>540.0</td>\n",
       "      <td>0.0</td>\n",
       "      <td>0.0</td>\n",
       "      <td>162.0</td>\n",
       "      <td>2.5</td>\n",
       "      <td>1055.0</td>\n",
       "      <td>676.0</td>\n",
       "      <td>28.0</td>\n",
       "    </tr>\n",
       "    <tr>\n",
       "      <th>2</th>\n",
       "      <td>332.5</td>\n",
       "      <td>142.5</td>\n",
       "      <td>0.0</td>\n",
       "      <td>228.0</td>\n",
       "      <td>0.0</td>\n",
       "      <td>932.0</td>\n",
       "      <td>594.0</td>\n",
       "      <td>270.0</td>\n",
       "    </tr>\n",
       "    <tr>\n",
       "      <th>3</th>\n",
       "      <td>332.5</td>\n",
       "      <td>142.5</td>\n",
       "      <td>0.0</td>\n",
       "      <td>228.0</td>\n",
       "      <td>0.0</td>\n",
       "      <td>932.0</td>\n",
       "      <td>594.0</td>\n",
       "      <td>365.0</td>\n",
       "    </tr>\n",
       "    <tr>\n",
       "      <th>4</th>\n",
       "      <td>198.6</td>\n",
       "      <td>132.4</td>\n",
       "      <td>0.0</td>\n",
       "      <td>192.0</td>\n",
       "      <td>0.0</td>\n",
       "      <td>978.4</td>\n",
       "      <td>825.5</td>\n",
       "      <td>360.0</td>\n",
       "    </tr>\n",
       "  </tbody>\n",
       "</table>\n",
       "</div>"
      ],
      "text/plain": [
       "   Cement  Blast Furnace Slag  Fly Ash  Water  Superplasticizer  \\\n",
       "0   540.0                 0.0      0.0  162.0               2.5   \n",
       "1   540.0                 0.0      0.0  162.0               2.5   \n",
       "2   332.5               142.5      0.0  228.0               0.0   \n",
       "3   332.5               142.5      0.0  228.0               0.0   \n",
       "4   198.6               132.4      0.0  192.0               0.0   \n",
       "\n",
       "   Coarse Aggregate  Fine Aggregate    Age  \n",
       "0            1040.0           676.0   28.0  \n",
       "1            1055.0           676.0   28.0  \n",
       "2             932.0           594.0  270.0  \n",
       "3             932.0           594.0  365.0  \n",
       "4             978.4           825.5  360.0  "
      ]
     },
     "execution_count": 23,
     "metadata": {},
     "output_type": "execute_result"
    }
   ],
   "source": [
    "x.head()"
   ]
  },
  {
   "cell_type": "code",
   "execution_count": 24,
   "metadata": {},
   "outputs": [
    {
     "data": {
      "text/html": [
       "<div>\n",
       "<style scoped>\n",
       "    .dataframe tbody tr th:only-of-type {\n",
       "        vertical-align: middle;\n",
       "    }\n",
       "\n",
       "    .dataframe tbody tr th {\n",
       "        vertical-align: top;\n",
       "    }\n",
       "\n",
       "    .dataframe thead th {\n",
       "        text-align: right;\n",
       "    }\n",
       "</style>\n",
       "<table border=\"1\" class=\"dataframe\">\n",
       "  <thead>\n",
       "    <tr style=\"text-align: right;\">\n",
       "      <th></th>\n",
       "      <th>Strength</th>\n",
       "    </tr>\n",
       "  </thead>\n",
       "  <tbody>\n",
       "    <tr>\n",
       "      <th>0</th>\n",
       "      <td>79.99</td>\n",
       "    </tr>\n",
       "    <tr>\n",
       "      <th>1</th>\n",
       "      <td>61.89</td>\n",
       "    </tr>\n",
       "    <tr>\n",
       "      <th>2</th>\n",
       "      <td>40.27</td>\n",
       "    </tr>\n",
       "    <tr>\n",
       "      <th>3</th>\n",
       "      <td>41.05</td>\n",
       "    </tr>\n",
       "    <tr>\n",
       "      <th>4</th>\n",
       "      <td>44.30</td>\n",
       "    </tr>\n",
       "  </tbody>\n",
       "</table>\n",
       "</div>"
      ],
      "text/plain": [
       "   Strength\n",
       "0     79.99\n",
       "1     61.89\n",
       "2     40.27\n",
       "3     41.05\n",
       "4     44.30"
      ]
     },
     "execution_count": 24,
     "metadata": {},
     "output_type": "execute_result"
    }
   ],
   "source": [
    "y.head()"
   ]
  },
  {
   "cell_type": "markdown",
   "metadata": {},
   "source": [
    "## Turning values into numpy arrays"
   ]
  },
  {
   "cell_type": "code",
   "execution_count": 25,
   "metadata": {},
   "outputs": [
    {
     "name": "stdout",
     "output_type": "stream",
     "text": [
      "X shape :  (1030, 8)\n",
      "Y shape :  (1030, 1)\n"
     ]
    }
   ],
   "source": [
    "x_vals = np.array(x, ndmin = 2)\n",
    "y_vals = np.array(y, ndmin = 1)\n",
    "\n",
    "print('X shape : ', x_vals.shape)\n",
    "print('Y shape : ', y_vals.shape)"
   ]
  },
  {
   "cell_type": "markdown",
   "metadata": {},
   "source": [
    "## Imports for making the model and testing it"
   ]
  },
  {
   "cell_type": "code",
   "execution_count": 26,
   "metadata": {},
   "outputs": [],
   "source": [
    "from sklearn.model_selection import train_test_split\n",
    "from sklearn.metrics import mean_squared_error\n",
    "\n",
    "from keras.models import Sequential\n",
    "from keras.layers import Dense"
   ]
  },
  {
   "cell_type": "code",
   "execution_count": 31,
   "metadata": {},
   "outputs": [],
   "source": [
    "def make_model():\n",
    "    \n",
    "    model = Sequential()\n",
    "    model.add(Dense(10, activation = 'relu', input_shape = (x_vals.shape[1], )))\n",
    "    model.add(Dense(1))\n",
    "    \n",
    "    model.compile(optimizer = 'adam', loss = 'mse')\n",
    "    return model"
   ]
  },
  {
   "cell_type": "markdown",
   "metadata": {},
   "source": [
    "## Main training and testing loop"
   ]
  },
  {
   "cell_type": "code",
   "execution_count": 43,
   "metadata": {},
   "outputs": [
    {
     "name": "stdout",
     "output_type": "stream",
     "text": [
      "Training round 1\n",
      "Error :  147.62594332208556\n",
      "--------------------------------------------------\n",
      "Training round 2\n",
      "Error :  113.40976605844617\n",
      "--------------------------------------------------\n",
      "Training round 3\n",
      "Error :  133.1857234642808\n",
      "--------------------------------------------------\n",
      "Training round 4\n",
      "Error :  166.88232162921742\n",
      "--------------------------------------------------\n",
      "Training round 5\n",
      "Error :  515.7839629127968\n",
      "--------------------------------------------------\n",
      "Training round 6\n",
      "Error :  88.61824484131563\n",
      "--------------------------------------------------\n",
      "Training round 7\n",
      "Error :  1464.1224611744615\n",
      "--------------------------------------------------\n",
      "Training round 8\n",
      "Error :  126.74801213832279\n",
      "--------------------------------------------------\n",
      "Training round 9\n",
      "Error :  158.44799274572347\n",
      "--------------------------------------------------\n",
      "Training round 10\n",
      "Error :  110.00182215085799\n",
      "--------------------------------------------------\n",
      "Training round 11\n",
      "Error :  115.98080366875082\n",
      "--------------------------------------------------\n",
      "Training round 12\n",
      "Error :  188.0550001521186\n",
      "--------------------------------------------------\n",
      "Training round 13\n",
      "Error :  125.98588596132117\n",
      "--------------------------------------------------\n",
      "Training round 14\n",
      "Error :  133.36827553624713\n",
      "--------------------------------------------------\n",
      "Training round 15\n",
      "Error :  171.58450523527927\n",
      "--------------------------------------------------\n",
      "Training round 16\n",
      "Error :  312.5151940126737\n",
      "--------------------------------------------------\n",
      "Training round 17\n",
      "Error :  969.093713695132\n",
      "--------------------------------------------------\n",
      "Training round 18\n",
      "Error :  1828.589667783995\n",
      "--------------------------------------------------\n",
      "Training round 19\n",
      "Error :  337.05261791718993\n",
      "--------------------------------------------------\n",
      "Training round 20\n",
      "Error :  267.03831650271286\n",
      "--------------------------------------------------\n",
      "Training round 21\n",
      "Error :  288.5277161618736\n",
      "--------------------------------------------------\n",
      "Training round 22\n",
      "Error :  260.539871164995\n",
      "--------------------------------------------------\n",
      "Training round 23\n",
      "Error :  169.03704410969175\n",
      "--------------------------------------------------\n",
      "Training round 24\n",
      "Error :  124.86837602689302\n",
      "--------------------------------------------------\n",
      "Training round 25\n",
      "Error :  103.92233581865104\n",
      "--------------------------------------------------\n",
      "Training round 26\n",
      "Error :  173.65462292670085\n",
      "--------------------------------------------------\n",
      "Training round 27\n",
      "Error :  107.82902950075433\n",
      "--------------------------------------------------\n",
      "Training round 28\n",
      "Error :  213.35953950988474\n",
      "--------------------------------------------------\n",
      "Training round 29\n",
      "Error :  2707.4500320332427\n",
      "--------------------------------------------------\n",
      "Training round 30\n",
      "Error :  137.5736737905456\n",
      "--------------------------------------------------\n",
      "Training round 31\n",
      "Error :  126.60159376762829\n",
      "--------------------------------------------------\n",
      "Training round 32\n",
      "Error :  121.9636568243273\n",
      "--------------------------------------------------\n",
      "Training round 33\n",
      "Error :  1293.818760470521\n",
      "--------------------------------------------------\n",
      "Training round 34\n",
      "Error :  121.51959412578879\n",
      "--------------------------------------------------\n",
      "Training round 35\n",
      "Error :  373.3524284008715\n",
      "--------------------------------------------------\n",
      "Training round 36\n",
      "Error :  171.01735585078913\n",
      "--------------------------------------------------\n",
      "Training round 37\n",
      "Error :  183.4483624410063\n",
      "--------------------------------------------------\n",
      "Training round 38\n",
      "Error :  138.0575440617355\n",
      "--------------------------------------------------\n",
      "Training round 39\n",
      "Error :  338.57214623262854\n",
      "--------------------------------------------------\n",
      "Training round 40\n",
      "Error :  129.66734262608531\n",
      "--------------------------------------------------\n",
      "Training round 41\n",
      "Error :  92.38010023516625\n",
      "--------------------------------------------------\n",
      "Training round 42\n",
      "Error :  562.7238488732423\n",
      "--------------------------------------------------\n",
      "Training round 43\n",
      "Error :  112.10719058144673\n",
      "--------------------------------------------------\n",
      "Training round 44\n",
      "Error :  72.72765846422072\n",
      "--------------------------------------------------\n",
      "Training round 45\n",
      "Error :  165.69280135299195\n",
      "--------------------------------------------------\n",
      "Training round 46\n",
      "Error :  114.83926090393108\n",
      "--------------------------------------------------\n",
      "Training round 47\n",
      "Error :  106.08807227029887\n",
      "--------------------------------------------------\n",
      "Training round 48\n",
      "Error :  125.08101578318212\n",
      "--------------------------------------------------\n",
      "Training round 49\n",
      "Error :  204.9763896674982\n",
      "--------------------------------------------------\n",
      "Training round 50\n",
      "Error :  144.9179948697611\n",
      "--------------------------------------------------\n"
     ]
    }
   ],
   "source": [
    "mse_list = [] # List to store all 50 errors\n",
    "\n",
    "# main loop\n",
    "for i in range(50):\n",
    "    \n",
    "    train_x, test_x, train_y, test_y = train_test_split(x_vals, y_vals, test_size = 0.3)\n",
    "\n",
    "    model = make_model()\n",
    "    model.fit(train_x, train_y, epochs = 50, verbose = 0)\n",
    "    print(f'Training round {i + 1}')\n",
    "\n",
    "    preds = model.predict(test_x)\n",
    "    error = mean_squared_error(test_y, preds)\n",
    "    print('Error : ', error)\n",
    "    print('-' * 50)\n",
    "    mse_list.append(error)"
   ]
  },
  {
   "cell_type": "code",
   "execution_count": 44,
   "metadata": {},
   "outputs": [
    {
     "name": "stdout",
     "output_type": "stream",
     "text": [
      "Mean of errors :  329.20811179498565\n",
      "Standard deviation :  489.8610070360774\n"
     ]
    }
   ],
   "source": [
    "mse_list = np.array(mse_list) # Turning list into numpy array\n",
    "\n",
    "print('Mean of errors : ', mse_list.mean())\n",
    "print('Standard deviation : ', mse_list.std())"
   ]
  }
 ],
 "metadata": {
  "kernelspec": {
   "display_name": "Python 3",
   "language": "python",
   "name": "python3"
  },
  "language_info": {
   "codemirror_mode": {
    "name": "ipython",
    "version": 3
   },
   "file_extension": ".py",
   "mimetype": "text/x-python",
   "name": "python",
   "nbconvert_exporter": "python",
   "pygments_lexer": "ipython3",
   "version": "3.8.5"
  }
 },
 "nbformat": 4,
 "nbformat_minor": 4
}
