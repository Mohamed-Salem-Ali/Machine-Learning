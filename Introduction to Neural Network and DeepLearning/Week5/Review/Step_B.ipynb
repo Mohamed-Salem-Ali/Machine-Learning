{
 "cells": [
  {
   "cell_type": "markdown",
   "metadata": {},
   "source": [
    "## Basic imports"
   ]
  },
  {
   "cell_type": "code",
   "execution_count": 1,
   "metadata": {},
   "outputs": [],
   "source": [
    "import pandas as pd\n",
    "import numpy as np"
   ]
  },
  {
   "cell_type": "markdown",
   "metadata": {},
   "source": [
    "## Reading data"
   ]
  },
  {
   "cell_type": "code",
   "execution_count": 2,
   "metadata": {},
   "outputs": [
    {
     "name": "stdout",
     "output_type": "stream",
     "text": [
      "(1030, 9)\n"
     ]
    },
    {
     "data": {
      "text/html": [
       "<div>\n",
       "<style scoped>\n",
       "    .dataframe tbody tr th:only-of-type {\n",
       "        vertical-align: middle;\n",
       "    }\n",
       "\n",
       "    .dataframe tbody tr th {\n",
       "        vertical-align: top;\n",
       "    }\n",
       "\n",
       "    .dataframe thead th {\n",
       "        text-align: right;\n",
       "    }\n",
       "</style>\n",
       "<table border=\"1\" class=\"dataframe\">\n",
       "  <thead>\n",
       "    <tr style=\"text-align: right;\">\n",
       "      <th></th>\n",
       "      <th>Cement</th>\n",
       "      <th>Blast Furnace Slag</th>\n",
       "      <th>Fly Ash</th>\n",
       "      <th>Water</th>\n",
       "      <th>Superplasticizer</th>\n",
       "      <th>Coarse Aggregate</th>\n",
       "      <th>Fine Aggregate</th>\n",
       "      <th>Age</th>\n",
       "      <th>Strength</th>\n",
       "    </tr>\n",
       "  </thead>\n",
       "  <tbody>\n",
       "    <tr>\n",
       "      <th>0</th>\n",
       "      <td>540.0</td>\n",
       "      <td>0.0</td>\n",
       "      <td>0.0</td>\n",
       "      <td>162.0</td>\n",
       "      <td>2.5</td>\n",
       "      <td>1040.0</td>\n",
       "      <td>676.0</td>\n",
       "      <td>28.0</td>\n",
       "      <td>79.99</td>\n",
       "    </tr>\n",
       "    <tr>\n",
       "      <th>1</th>\n",
       "      <td>540.0</td>\n",
       "      <td>0.0</td>\n",
       "      <td>0.0</td>\n",
       "      <td>162.0</td>\n",
       "      <td>2.5</td>\n",
       "      <td>1055.0</td>\n",
       "      <td>676.0</td>\n",
       "      <td>28.0</td>\n",
       "      <td>61.89</td>\n",
       "    </tr>\n",
       "    <tr>\n",
       "      <th>2</th>\n",
       "      <td>332.5</td>\n",
       "      <td>142.5</td>\n",
       "      <td>0.0</td>\n",
       "      <td>228.0</td>\n",
       "      <td>0.0</td>\n",
       "      <td>932.0</td>\n",
       "      <td>594.0</td>\n",
       "      <td>270.0</td>\n",
       "      <td>40.27</td>\n",
       "    </tr>\n",
       "    <tr>\n",
       "      <th>3</th>\n",
       "      <td>332.5</td>\n",
       "      <td>142.5</td>\n",
       "      <td>0.0</td>\n",
       "      <td>228.0</td>\n",
       "      <td>0.0</td>\n",
       "      <td>932.0</td>\n",
       "      <td>594.0</td>\n",
       "      <td>365.0</td>\n",
       "      <td>41.05</td>\n",
       "    </tr>\n",
       "    <tr>\n",
       "      <th>4</th>\n",
       "      <td>198.6</td>\n",
       "      <td>132.4</td>\n",
       "      <td>0.0</td>\n",
       "      <td>192.0</td>\n",
       "      <td>0.0</td>\n",
       "      <td>978.4</td>\n",
       "      <td>825.5</td>\n",
       "      <td>360.0</td>\n",
       "      <td>44.30</td>\n",
       "    </tr>\n",
       "  </tbody>\n",
       "</table>\n",
       "</div>"
      ],
      "text/plain": [
       "   Cement  Blast Furnace Slag  Fly Ash  Water  Superplasticizer  \\\n",
       "0   540.0                 0.0      0.0  162.0               2.5   \n",
       "1   540.0                 0.0      0.0  162.0               2.5   \n",
       "2   332.5               142.5      0.0  228.0               0.0   \n",
       "3   332.5               142.5      0.0  228.0               0.0   \n",
       "4   198.6               132.4      0.0  192.0               0.0   \n",
       "\n",
       "   Coarse Aggregate  Fine Aggregate    Age  Strength  \n",
       "0            1040.0           676.0   28.0     79.99  \n",
       "1            1055.0           676.0   28.0     61.89  \n",
       "2             932.0           594.0  270.0     40.27  \n",
       "3             932.0           594.0  365.0     41.05  \n",
       "4             978.4           825.5  360.0     44.30  "
      ]
     },
     "execution_count": 2,
     "metadata": {},
     "output_type": "execute_result"
    }
   ],
   "source": [
    "df = pd.read_csv('concrete_data.csv')\n",
    "df = df.astype('float64')\n",
    "print(df.shape)\n",
    "df.head(5)"
   ]
  },
  {
   "cell_type": "code",
   "execution_count": 3,
   "metadata": {},
   "outputs": [
    {
     "name": "stdout",
     "output_type": "stream",
     "text": [
      "<class 'pandas.core.frame.DataFrame'>\n",
      "RangeIndex: 1030 entries, 0 to 1029\n",
      "Data columns (total 9 columns):\n",
      " #   Column              Non-Null Count  Dtype  \n",
      "---  ------              --------------  -----  \n",
      " 0   Cement              1030 non-null   float64\n",
      " 1   Blast Furnace Slag  1030 non-null   float64\n",
      " 2   Fly Ash             1030 non-null   float64\n",
      " 3   Water               1030 non-null   float64\n",
      " 4   Superplasticizer    1030 non-null   float64\n",
      " 5   Coarse Aggregate    1030 non-null   float64\n",
      " 6   Fine Aggregate      1030 non-null   float64\n",
      " 7   Age                 1030 non-null   float64\n",
      " 8   Strength            1030 non-null   float64\n",
      "dtypes: float64(9)\n",
      "memory usage: 72.5 KB\n"
     ]
    }
   ],
   "source": [
    "df.info()"
   ]
  },
  {
   "cell_type": "markdown",
   "metadata": {},
   "source": [
    "All values are non-null, which is good"
   ]
  },
  {
   "cell_type": "markdown",
   "metadata": {},
   "source": [
    "## Splitting data into predictors and target"
   ]
  },
  {
   "cell_type": "code",
   "execution_count": 4,
   "metadata": {},
   "outputs": [],
   "source": [
    "cols = df.columns\n",
    "x = df[cols[cols != 'Strength']] # Predictors\n",
    "y = df[['Strength']] # Target"
   ]
  },
  {
   "cell_type": "markdown",
   "metadata": {},
   "source": [
    "## Normalizing data"
   ]
  },
  {
   "cell_type": "code",
   "execution_count": 7,
   "metadata": {},
   "outputs": [
    {
     "data": {
      "text/html": [
       "<div>\n",
       "<style scoped>\n",
       "    .dataframe tbody tr th:only-of-type {\n",
       "        vertical-align: middle;\n",
       "    }\n",
       "\n",
       "    .dataframe tbody tr th {\n",
       "        vertical-align: top;\n",
       "    }\n",
       "\n",
       "    .dataframe thead th {\n",
       "        text-align: right;\n",
       "    }\n",
       "</style>\n",
       "<table border=\"1\" class=\"dataframe\">\n",
       "  <thead>\n",
       "    <tr style=\"text-align: right;\">\n",
       "      <th></th>\n",
       "      <th>Cement</th>\n",
       "      <th>Blast Furnace Slag</th>\n",
       "      <th>Fly Ash</th>\n",
       "      <th>Water</th>\n",
       "      <th>Superplasticizer</th>\n",
       "      <th>Coarse Aggregate</th>\n",
       "      <th>Fine Aggregate</th>\n",
       "      <th>Age</th>\n",
       "    </tr>\n",
       "  </thead>\n",
       "  <tbody>\n",
       "    <tr>\n",
       "      <th>0</th>\n",
       "      <td>2.476712</td>\n",
       "      <td>-0.856472</td>\n",
       "      <td>-0.846733</td>\n",
       "      <td>-0.916319</td>\n",
       "      <td>-0.620147</td>\n",
       "      <td>0.862735</td>\n",
       "      <td>-1.217079</td>\n",
       "      <td>-0.279597</td>\n",
       "    </tr>\n",
       "    <tr>\n",
       "      <th>1</th>\n",
       "      <td>2.476712</td>\n",
       "      <td>-0.856472</td>\n",
       "      <td>-0.846733</td>\n",
       "      <td>-0.916319</td>\n",
       "      <td>-0.620147</td>\n",
       "      <td>1.055651</td>\n",
       "      <td>-1.217079</td>\n",
       "      <td>-0.279597</td>\n",
       "    </tr>\n",
       "    <tr>\n",
       "      <th>2</th>\n",
       "      <td>0.491187</td>\n",
       "      <td>0.795140</td>\n",
       "      <td>-0.846733</td>\n",
       "      <td>2.174405</td>\n",
       "      <td>-1.038638</td>\n",
       "      <td>-0.526262</td>\n",
       "      <td>-2.239829</td>\n",
       "      <td>3.551340</td>\n",
       "    </tr>\n",
       "    <tr>\n",
       "      <th>3</th>\n",
       "      <td>0.491187</td>\n",
       "      <td>0.795140</td>\n",
       "      <td>-0.846733</td>\n",
       "      <td>2.174405</td>\n",
       "      <td>-1.038638</td>\n",
       "      <td>-0.526262</td>\n",
       "      <td>-2.239829</td>\n",
       "      <td>5.055221</td>\n",
       "    </tr>\n",
       "    <tr>\n",
       "      <th>4</th>\n",
       "      <td>-0.790075</td>\n",
       "      <td>0.678079</td>\n",
       "      <td>-0.846733</td>\n",
       "      <td>0.488555</td>\n",
       "      <td>-1.038638</td>\n",
       "      <td>0.070492</td>\n",
       "      <td>0.647569</td>\n",
       "      <td>4.976069</td>\n",
       "    </tr>\n",
       "  </tbody>\n",
       "</table>\n",
       "</div>"
      ],
      "text/plain": [
       "     Cement  Blast Furnace Slag   Fly Ash     Water  Superplasticizer  \\\n",
       "0  2.476712           -0.856472 -0.846733 -0.916319         -0.620147   \n",
       "1  2.476712           -0.856472 -0.846733 -0.916319         -0.620147   \n",
       "2  0.491187            0.795140 -0.846733  2.174405         -1.038638   \n",
       "3  0.491187            0.795140 -0.846733  2.174405         -1.038638   \n",
       "4 -0.790075            0.678079 -0.846733  0.488555         -1.038638   \n",
       "\n",
       "   Coarse Aggregate  Fine Aggregate       Age  \n",
       "0          0.862735       -1.217079 -0.279597  \n",
       "1          1.055651       -1.217079 -0.279597  \n",
       "2         -0.526262       -2.239829  3.551340  \n",
       "3         -0.526262       -2.239829  5.055221  \n",
       "4          0.070492        0.647569  4.976069  "
      ]
     },
     "execution_count": 7,
     "metadata": {},
     "output_type": "execute_result"
    }
   ],
   "source": [
    "x = (x - x.mean())/x.std()\n",
    "x.head()"
   ]
  },
  {
   "cell_type": "code",
   "execution_count": 8,
   "metadata": {},
   "outputs": [
    {
     "data": {
      "text/html": [
       "<div>\n",
       "<style scoped>\n",
       "    .dataframe tbody tr th:only-of-type {\n",
       "        vertical-align: middle;\n",
       "    }\n",
       "\n",
       "    .dataframe tbody tr th {\n",
       "        vertical-align: top;\n",
       "    }\n",
       "\n",
       "    .dataframe thead th {\n",
       "        text-align: right;\n",
       "    }\n",
       "</style>\n",
       "<table border=\"1\" class=\"dataframe\">\n",
       "  <thead>\n",
       "    <tr style=\"text-align: right;\">\n",
       "      <th></th>\n",
       "      <th>Strength</th>\n",
       "    </tr>\n",
       "  </thead>\n",
       "  <tbody>\n",
       "    <tr>\n",
       "      <th>0</th>\n",
       "      <td>79.99</td>\n",
       "    </tr>\n",
       "    <tr>\n",
       "      <th>1</th>\n",
       "      <td>61.89</td>\n",
       "    </tr>\n",
       "    <tr>\n",
       "      <th>2</th>\n",
       "      <td>40.27</td>\n",
       "    </tr>\n",
       "    <tr>\n",
       "      <th>3</th>\n",
       "      <td>41.05</td>\n",
       "    </tr>\n",
       "    <tr>\n",
       "      <th>4</th>\n",
       "      <td>44.30</td>\n",
       "    </tr>\n",
       "  </tbody>\n",
       "</table>\n",
       "</div>"
      ],
      "text/plain": [
       "   Strength\n",
       "0     79.99\n",
       "1     61.89\n",
       "2     40.27\n",
       "3     41.05\n",
       "4     44.30"
      ]
     },
     "execution_count": 8,
     "metadata": {},
     "output_type": "execute_result"
    }
   ],
   "source": [
    "y.head()"
   ]
  },
  {
   "cell_type": "markdown",
   "metadata": {},
   "source": [
    "## Turning values into numpy arrays"
   ]
  },
  {
   "cell_type": "code",
   "execution_count": 9,
   "metadata": {},
   "outputs": [
    {
     "name": "stdout",
     "output_type": "stream",
     "text": [
      "X shape :  (1030, 8)\n",
      "Y shape :  (1030, 1)\n"
     ]
    }
   ],
   "source": [
    "x_vals = np.array(x, ndmin = 2)\n",
    "y_vals = np.array(y, ndmin = 1)\n",
    "\n",
    "print('X shape : ', x_vals.shape)\n",
    "print('Y shape : ', y_vals.shape)"
   ]
  },
  {
   "cell_type": "markdown",
   "metadata": {},
   "source": [
    "## Imports for making the model and testing it"
   ]
  },
  {
   "cell_type": "code",
   "execution_count": 10,
   "metadata": {},
   "outputs": [],
   "source": [
    "from sklearn.model_selection import train_test_split\n",
    "from sklearn.metrics import mean_squared_error\n",
    "\n",
    "from keras.models import Sequential\n",
    "from keras.layers import Dense"
   ]
  },
  {
   "cell_type": "code",
   "execution_count": 11,
   "metadata": {},
   "outputs": [],
   "source": [
    "def make_model():\n",
    "    \n",
    "    model = Sequential()\n",
    "    model.add(Dense(10, activation = 'relu', input_shape = (x_vals.shape[1], )))\n",
    "    model.add(Dense(1))\n",
    "    \n",
    "    model.compile(optimizer = 'adam', loss = 'mse')\n",
    "    return model"
   ]
  },
  {
   "cell_type": "markdown",
   "metadata": {},
   "source": [
    "## Main training and testing loop"
   ]
  },
  {
   "cell_type": "code",
   "execution_count": 12,
   "metadata": {},
   "outputs": [
    {
     "name": "stdout",
     "output_type": "stream",
     "text": [
      "Training round 1\n",
      "Error :  448.9498187426883\n",
      "--------------------------------------------------\n",
      "Training round 2\n",
      "Error :  348.1941849909621\n",
      "--------------------------------------------------\n",
      "Training round 3\n",
      "Error :  304.5561704421281\n",
      "--------------------------------------------------\n",
      "Training round 4\n",
      "Error :  586.3211033064907\n",
      "--------------------------------------------------\n",
      "Training round 5\n",
      "Error :  270.9928916825817\n",
      "--------------------------------------------------\n",
      "Training round 6\n",
      "Error :  301.66483531282535\n",
      "--------------------------------------------------\n",
      "Training round 7\n",
      "Error :  343.6461231774476\n",
      "--------------------------------------------------\n",
      "Training round 8\n",
      "Error :  327.13033655475334\n",
      "--------------------------------------------------\n",
      "Training round 9\n",
      "Error :  239.2097256250434\n",
      "--------------------------------------------------\n",
      "Training round 10\n",
      "Error :  354.5692918451405\n",
      "--------------------------------------------------\n",
      "Training round 11\n",
      "Error :  346.79229466683165\n",
      "--------------------------------------------------\n",
      "Training round 12\n",
      "Error :  458.42510898436836\n",
      "--------------------------------------------------\n",
      "Training round 13\n",
      "Error :  312.78439414131395\n",
      "--------------------------------------------------\n",
      "Training round 14\n",
      "Error :  364.1736428942549\n",
      "--------------------------------------------------\n",
      "Training round 15\n",
      "Error :  645.2236558248667\n",
      "--------------------------------------------------\n",
      "Training round 16\n",
      "Error :  577.904863535081\n",
      "--------------------------------------------------\n",
      "Training round 17\n",
      "Error :  758.7073261481723\n",
      "--------------------------------------------------\n",
      "Training round 18\n",
      "Error :  515.4557745638467\n",
      "--------------------------------------------------\n",
      "Training round 19\n",
      "Error :  432.75894074857246\n",
      "--------------------------------------------------\n",
      "Training round 20\n",
      "Error :  341.5726758602273\n",
      "--------------------------------------------------\n",
      "Training round 21\n",
      "Error :  494.9941138271672\n",
      "--------------------------------------------------\n",
      "Training round 22\n",
      "Error :  330.04327479128585\n",
      "--------------------------------------------------\n",
      "Training round 23\n",
      "Error :  375.5846721786518\n",
      "--------------------------------------------------\n",
      "Training round 24\n",
      "Error :  256.87639790990954\n",
      "--------------------------------------------------\n",
      "Training round 25\n",
      "Error :  336.4506942015349\n",
      "--------------------------------------------------\n",
      "Training round 26\n",
      "Error :  291.9340892835989\n",
      "--------------------------------------------------\n",
      "Training round 27\n",
      "Error :  437.2409426043052\n",
      "--------------------------------------------------\n",
      "Training round 28\n",
      "Error :  565.8790627208075\n",
      "--------------------------------------------------\n",
      "Training round 29\n",
      "Error :  457.2528947387322\n",
      "--------------------------------------------------\n",
      "Training round 30\n",
      "Error :  351.43403509719025\n",
      "--------------------------------------------------\n",
      "Training round 31\n",
      "Error :  283.563590725781\n",
      "--------------------------------------------------\n",
      "Training round 32\n",
      "Error :  462.16974835841626\n",
      "--------------------------------------------------\n",
      "Training round 33\n",
      "Error :  286.4997657694429\n",
      "--------------------------------------------------\n",
      "Training round 34\n",
      "Error :  278.2807357996474\n",
      "--------------------------------------------------\n",
      "Training round 35\n",
      "Error :  212.85612588770857\n",
      "--------------------------------------------------\n",
      "Training round 36\n",
      "Error :  319.8041816909018\n",
      "--------------------------------------------------\n",
      "Training round 37\n",
      "Error :  321.0868123246419\n",
      "--------------------------------------------------\n",
      "Training round 38\n",
      "Error :  446.33350024641373\n",
      "--------------------------------------------------\n",
      "Training round 39\n",
      "Error :  269.76254448614753\n",
      "--------------------------------------------------\n",
      "Training round 40\n",
      "Error :  372.7434247252598\n",
      "--------------------------------------------------\n",
      "Training round 41\n",
      "Error :  347.9035245016762\n",
      "--------------------------------------------------\n",
      "Training round 42\n",
      "Error :  422.4663686027654\n",
      "--------------------------------------------------\n",
      "Training round 43\n",
      "Error :  596.102078506969\n",
      "--------------------------------------------------\n",
      "Training round 44\n",
      "Error :  309.6715815323807\n",
      "--------------------------------------------------\n",
      "Training round 45\n",
      "Error :  271.6381174582326\n",
      "--------------------------------------------------\n",
      "Training round 46\n",
      "Error :  245.00274130131274\n",
      "--------------------------------------------------\n",
      "Training round 47\n",
      "Error :  263.732329968932\n",
      "--------------------------------------------------\n",
      "Training round 48\n",
      "Error :  297.50495253310646\n",
      "--------------------------------------------------\n",
      "Training round 49\n",
      "Error :  1159.4401750346356\n",
      "--------------------------------------------------\n",
      "Training round 50\n",
      "Error :  325.5978581269349\n",
      "--------------------------------------------------\n"
     ]
    }
   ],
   "source": [
    "mse_list = [] # List to store all 50 errors\n",
    "\n",
    "# main loop\n",
    "for i in range(50):\n",
    "    \n",
    "    train_x, test_x, train_y, test_y = train_test_split(x_vals, y_vals, test_size = 0.3)\n",
    "\n",
    "    model = make_model()\n",
    "    model.fit(train_x, train_y, epochs = 50, verbose = 0)\n",
    "    print(f'Training round {i + 1}')\n",
    "\n",
    "    preds = model.predict(test_x)\n",
    "    error = mean_squared_error(test_y, preds)\n",
    "    print('Error : ', error)\n",
    "    print('-' * 50)\n",
    "    mse_list.append(error)"
   ]
  },
  {
   "cell_type": "code",
   "execution_count": 13,
   "metadata": {},
   "outputs": [
    {
     "name": "stdout",
     "output_type": "stream",
     "text": [
      "Mean of errors :  393.3776698796417\n",
      "Standard deviation :  158.8985379764239\n"
     ]
    }
   ],
   "source": [
    "mse_list = np.array(mse_list) # Turning list into numpy array\n",
    "\n",
    "print('Mean of errors : ', mse_list.mean())\n",
    "print('Standard deviation : ', mse_list.std())"
   ]
  },
  {
   "cell_type": "markdown",
   "metadata": {},
   "source": [
    "### The mean of the 50 errors is higher than it was was before, however the standard deviation is much lower"
   ]
  }
 ],
 "metadata": {
  "kernelspec": {
   "display_name": "Python 3",
   "language": "python",
   "name": "python3"
  },
  "language_info": {
   "codemirror_mode": {
    "name": "ipython",
    "version": 3
   },
   "file_extension": ".py",
   "mimetype": "text/x-python",
   "name": "python",
   "nbconvert_exporter": "python",
   "pygments_lexer": "ipython3",
   "version": "3.8.5"
  }
 },
 "nbformat": 4,
 "nbformat_minor": 4
}
