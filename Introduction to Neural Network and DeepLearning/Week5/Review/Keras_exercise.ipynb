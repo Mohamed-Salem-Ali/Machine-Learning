{
 "cells": [
  {
   "cell_type": "code",
   "execution_count": 6,
   "metadata": {},
   "outputs": [],
   "source": [
    "import pandas as pd\n",
    "import numpy as np\n",
    "from keras.models import Sequential\n",
    "from keras.layers import Dense"
   ]
  },
  {
   "cell_type": "code",
   "execution_count": 7,
   "metadata": {},
   "outputs": [],
   "source": [
    "#import the data\n",
    "df = pd.read_csv('concrete_data.csv')"
   ]
  },
  {
   "cell_type": "markdown",
   "metadata": {},
   "source": [
    "### Split the data into x and y "
   ]
  },
  {
   "cell_type": "code",
   "execution_count": 29,
   "metadata": {},
   "outputs": [],
   "source": [
    "x_df = df.drop('Strength',axis=1) \n",
    "y_df = df['Strength']"
   ]
  },
  {
   "cell_type": "markdown",
   "metadata": {},
   "source": [
    "### Build a baseline model"
   ]
  },
  {
   "cell_type": "code",
   "execution_count": 36,
   "metadata": {},
   "outputs": [],
   "source": [
    "from sklearn.model_selection import train_test_split\n",
    "from sklearn.metrics import mean_squared_error"
   ]
  },
  {
   "cell_type": "code",
   "execution_count": 50,
   "metadata": {},
   "outputs": [],
   "source": [
    "# A functino for creating model\n",
    "def make_model():\n",
    "    model = Sequential()\n",
    "    model.add(Dense(10, activation='relu',input_shape=(n_cols,)))\n",
    "    \n",
    "    #output layer\n",
    "    model.add(Dense(1))\n",
    "    \n",
    "    model.compile(optimizer='adam',loss='mean_squared_error')\n",
    "    return model"
   ]
  },
  {
   "cell_type": "code",
   "execution_count": 45,
   "metadata": {},
   "outputs": [],
   "source": [
    "training_time = 50\n",
    "\n",
    "#Used to store the mse score\n",
    "scores = []\n",
    "\n",
    "#Start training\n",
    "for i in range(training_time):\n",
    "    x_train, x_test, y_train,y_test =  train_test_split(x_df,y_df,test_size=0.3)\n",
    "    n_cols = x_train.shape[1]\n",
    "    clf = make_model()\n",
    "    clf.fit(x_train, y_train, epochs=50, verbose=False)\n",
    "    error = mean_squared_error(y_test, clf.predict(x_test))\n",
    "    scores.append(error)"
   ]
  },
  {
   "cell_type": "code",
   "execution_count": 48,
   "metadata": {},
   "outputs": [
    {
     "name": "stdout",
     "output_type": "stream",
     "text": [
      "Mean of the scores: 345.413, standard deviation: 277.076\n"
     ]
    }
   ],
   "source": [
    "# Evaluation\n",
    "print('Mean of the scores: {:.3f}, standard deviation: {:.3f}'.format(np.mean(scores),np.std(scores)))"
   ]
  }
 ],
 "metadata": {
  "kernelspec": {
   "display_name": "Python 3",
   "language": "python",
   "name": "python3"
  },
  "language_info": {
   "codemirror_mode": {
    "name": "ipython",
    "version": 3
   },
   "file_extension": ".py",
   "mimetype": "text/x-python",
   "name": "python",
   "nbconvert_exporter": "python",
   "pygments_lexer": "ipython3",
   "version": "3.6.10"
  }
 },
 "nbformat": 4,
 "nbformat_minor": 4
}
